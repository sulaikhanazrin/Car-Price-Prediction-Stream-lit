{
  "nbformat": 4,
  "nbformat_minor": 0,
  "metadata": {
    "colab": {
      "provenance": [],
      "gpuType": "V28",
      "authorship_tag": "ABX9TyNKitUQFanbu3kQQI+F+Mh/",
      "include_colab_link": true
    },
    "kernelspec": {
      "name": "python3",
      "display_name": "Python 3"
    },
    "language_info": {
      "name": "python"
    },
    "accelerator": "TPU"
  },
  "cells": [
    {
      "cell_type": "markdown",
      "metadata": {
        "id": "view-in-github",
        "colab_type": "text"
      },
      "source": [
        "<a href=\"https://colab.research.google.com/github/sulaikhanazrin/Car-Price-Prediction-Stream-lit/blob/main/Untitled1.ipynb\" target=\"_parent\"><img src=\"https://colab.research.google.com/assets/colab-badge.svg\" alt=\"Open In Colab\"/></a>"
      ]
    },
    {
      "cell_type": "code",
      "source": [
        "import pandas as pd\n",
        "import numpy as np\n",
        "import random\n",
        "from datetime import datetime, timedelta"
      ],
      "metadata": {
        "id": "FlXa4CseKTtR"
      },
      "execution_count": 2,
      "outputs": []
    },
    {
      "cell_type": "code",
      "source": [
        "file_paths = [\n",
        "    r\"/content/Police-Traffic.xlsx - dummy JAN 2019.csv\",]\n",
        "#     r\"C:\\Users\\sulai\\Downloads\\NLP\\Police-Traffic.xlsx - dummy JAN 2020.csv\",\n",
        "#     r\"C:\\Users\\sulai\\Downloads\\NLP\\Police-Traffic.xlsx - dummy JAN 2021 final.csv\",\n",
        "#     r\"C:\\Users\\sulai\\Downloads\\NLP\\Police-Traffic.xlsx - dummy JAN 2022 final.csv\",\n",
        "#     r\"C:\\Users\\sulai\\Downloads\\NLP\\Police-Traffic.xlsx - dummy JAN 2023 final.csv\"\n",
        "# ]"
      ],
      "metadata": {
        "id": "J5NZHZH-K0jc"
      },
      "execution_count": 3,
      "outputs": []
    },
    {
      "cell_type": "code",
      "source": [],
      "metadata": {
        "id": "iKCRczXbK9yf"
      },
      "execution_count": null,
      "outputs": []
    }
  ]
}